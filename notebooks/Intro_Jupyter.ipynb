{
 "cells": [
  {
   "cell_type": "markdown",
   "id": "0430a623-831d-4ecc-a65c-f3dec4b7a326",
   "metadata": {},
   "source": [
    "# (Too) Brief intro to Jupyter Notebooks"
   ]
  },
  {
   "cell_type": "markdown",
   "id": "dcf2eb1a-d2df-4914-80e3-5b18dc4d7627",
   "metadata": {},
   "source": [
    "A Jupyter Notebook is:\n",
    "\n",
    "> an open-source web application that allows you to create and share documents that contain live code, equations, visualizations and narrative text. ([jupyter.org](https://jupyter.org/))\n",
    "\n",
    "A Notebook consists of one or more \"cells\" in which you can put text and code. The text you are reading right now is placed in a `Markdown` cell. Click somewhere on this text _once_ and verify this at the top of this page.\n",
    "\n",
    "The next cell is a `Code` cell. The current notebook uses a Python interpreter (check the top right corner to verify) which means it expects Python code and can only interpret Python code. Different setups are also possible (e.g. with an `R` or `Julia` interpreter). Select the following cell, verify at the top of this window if it displays `Code` instead of `Markdown`, and either click the 'play'-button above or press `<ctrl>-<enter>` simultaneously to run the Python code."
   ]
  },
  {
   "cell_type": "code",
   "execution_count": null,
   "id": "e6c7bc0e-9e40-4a4f-a14a-f34daea0a08a",
   "metadata": {},
   "outputs": [],
   "source": [
    "print('Hello world!')"
   ]
  },
  {
   "cell_type": "markdown",
   "id": "6ea6a15e-0da3-4df3-926d-271236d1e551",
   "metadata": {},
   "source": [
    "Markdown cells can contain a wide variety of things:\n",
    "\n",
    "- Headers\n",
    "- Lists\n",
    "- Lengthy paragraphs\n",
    "- Tables\n",
    "- Images\n",
    "- Equations\n",
    "\n",
    "See the examples below, and double click this cell to see how to create these things.\n",
    "\n",
    "Lorem ipsum dolor sit amet, consectetur adipiscing elit, sed do eiusmod tempor incididunt ut labore et dolore magna aliqua. Facilisis sed odio morbi quis commodo odio aenean sed adipiscing. Cras fermentum odio eu feugiat pretium. At urna condimentum mattis pellentesque id nibh tortor. Blandit libero volutpat sed cras ornare arcu dui vivamus arcu. Iaculis eu non diam phasellus vestibulum lorem sed risus. Purus sit amet luctus venenatis. Egestas fringilla phasellus faucibus scelerisque eleifend donec. Quam id leo in vitae. Eget aliquet nibh praesent tristique magna. Bibendum neque egestas congue quisque egestas diam in. Diam sit amet nisl suscipit. Tellus pellentesque eu tincidunt tortor aliquam nulla. Nisl nisi scelerisque eu ultrices vitae auctor eu augue ut. Metus vulputate eu scelerisque felis imperdiet. Tristique risus nec feugiat in fermentum posuere urna nec. Egestas congue quisque egestas diam in arcu cursus. Mi sit amet mauris commodo quis imperdiet.\n",
    "\n",
    "| column 1 | Column 2|\n",
    "|---|---|\n",
    "| 0 | 1 | \n",
    "| 4 | 5.5| \n",
    "| 5 | 3 | \n",
    "\n",
    "**The Cauchy-Schwarz Inequality**\n",
    "$$\\left( \\sum_{k=1}^n a_k b_k \\right)^2 \\leq \\left( \\sum_{k=1}^n a_k^2 \\right) \\left( \\sum_{k=1}^n b_k^2 \\right)$$\n",
    "\n",
    "<img src=\"https://www.uu.nl/sites/default/files/styles/image_1600xn/public/ubd-afsluiting-logo-pay-off.png?mt=1626952634&itok=yu-iR1Fy\" width=\"400\" height=\"400\">\n",
    "\n",
    "Follow this [link](https://www.markdownguide.org/basic-syntax/) for more markdown formatting examples"
   ]
  },
  {
   "cell_type": "markdown",
   "id": "fd62c566-08e4-407a-89a2-39590ef239a2",
   "metadata": {},
   "source": [
    "Click this cell, and hit `B` on your keyboard to create a new cell below. You can also click the `+` sign at the top of this screen. You can ignore the new cell and continue reading..."
   ]
  },
  {
   "cell_type": "markdown",
   "id": "f12ca104-aff5-40f1-a477-ee0a2d6caeb8",
   "metadata": {},
   "source": [
    "Code cells can contain all of your Python code. You can put many lines of code into one cell, or create many cells with only a few lines of code. You can define variables and functions in one cell and call them in another cell. However, you need to be aware that the order in which you run the cells matters. Try to run the cells below to understand what we mean:"
   ]
  },
  {
   "cell_type": "code",
   "execution_count": null,
   "id": "cbec0b37-632f-4362-af4c-c663ee5c8f56",
   "metadata": {},
   "outputs": [],
   "source": [
    "print(a)"
   ]
  },
  {
   "cell_type": "code",
   "execution_count": null,
   "id": "09e82bc3-fd9f-4754-a45f-23d54bae308b",
   "metadata": {},
   "outputs": [],
   "source": [
    "a = 6"
   ]
  },
  {
   "cell_type": "code",
   "execution_count": null,
   "id": "5e1da83f-cc83-4143-b734-5313e3d3a940",
   "metadata": {},
   "outputs": [],
   "source": [
    "print(a)"
   ]
  },
  {
   "cell_type": "markdown",
   "id": "55bcac1c-296f-43ac-ba29-9c97907e1c7f",
   "metadata": {},
   "source": [
    "A finished notebook should contain python code cells that can be run from the top to the bottom of the notebook. When your notebook becomes more complex, typically what happens is that because you have been running and changing and rerunning code cells while developing, the logic of your python code from top to bottom breaks, and to prevent this (or at least get notified in an early stage) it is good practice to regularly restart the Python 'kernel' and run all the cells from top to bottom (or up to the selected cell). Click the Kernel tab at the top of this window and verify if you see these options."
   ]
  },
  {
   "cell_type": "markdown",
   "id": "10037d44-d487-4d89-9ad4-ef04b9496635",
   "metadata": {},
   "source": [
    "Here we end our (too) brief introduction to Jupyter notebooks. If you are interested, check out the documentation at the [jupyter website](https://docs.jupyter.org/en/latest/)"
   ]
  }
 ],
 "metadata": {
  "kernelspec": {
   "display_name": "Python 3 (ipykernel)",
   "language": "python",
   "name": "python3"
  },
  "language_info": {
   "codemirror_mode": {
    "name": "ipython",
    "version": 3
   },
   "file_extension": ".py",
   "mimetype": "text/x-python",
   "name": "python",
   "nbconvert_exporter": "python",
   "pygments_lexer": "ipython3",
   "version": "3.10.8"
  }
 },
 "nbformat": 4,
 "nbformat_minor": 5
}
