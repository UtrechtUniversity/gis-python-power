{
 "cells": [
  {
   "cell_type": "markdown",
   "metadata": {
    "tags": []
   },
   "source": [
    "# Working with Vector Data in Python\n",
    "\n",
    "Python has a large ecosystem of packages to work with Geospatial data. The most important packages to work with Vector data are:\n",
    "\n",
    "- [Pandas/Geopandas](https://geopandas.org/en/stable/): a module used to interact with geospatial data. With geopandas a users can manage filepaths, read spatial data from file, calculate geometries, write spatial data to file, group and split spatial data into multiple layers. to name just a few. Geopandas combines the capabilities of the data analysis library [pandas](https://pandas.pydata.org/pandas-docs/stable/) with other packages like [shapely](https://shapely.readthedocs.io/en/stable/manual.html) and [fiona](https://fiona.readthedocs.io/en/latest/manual.html) for managing spatial data. The main data structures in geopandas are `GeoSeries` and `GeoDataFrame` which extend the capabilities of `Series` and `DataFrames` from pandas.\n",
    "- [Shapely](https://shapely.readthedocs.io/en/stable/manual.html): a module used to create and manipulate geometries-shapes in python such as (multi-)points, (multi-)lines, (multi-)polygons. The module is based on the well known GEOS (Geometry Engine - Open Source). More information available at [Shapely-documentation](https://shapely.readthedocs.io/en/stable/index.html).\n",
    "- [Matplotlib](https://matplotlib.org/stable/users/index.html): a popular Python library for creating visualizations and plots. It provides a flexible and customizable platform for generating a wide range of charts, graphs, and figures. In the context of geospatial data, GeoPandas offers a high-level interface to the Matplotlib library, making it easier to create maps and visualize geospatial data in a straightforward and convenient manner. More information available at [geopandas documentation](https://geopandas.org/en/stable/docs/user_guide/mapping.html).\n",
    "- [Fiona](https://fiona.readthedocs.io/en/stable/manual.html#introduction): a module used to handle reading and writing geographical data in various GIS formats. It can work with data stored on your local drive, in the cloud, and even in memory, making it a versatile choice for geospatial tasks. More information available at [Fiona documentation](https://fiona.readthedocs.io/en/stable/manual.html#)."
   ]
  },
  {
   "cell_type": "markdown",
   "metadata": {},
   "source": [
    "## Before we start\n",
    "\n",
    "<div class=\"warning\" style='padding:0.1em; background-color:#E9D8FD; color:#69337A'>\n",
    "<span>\n",
    "<p style='margin-top:1em;margin-left:1em'>\n",
    "<b>Step 1: change the Python kernel</b></p>\n",
    "<p style='margin-left:1em;'>\n",
    "Make sure in the top right of this window the selected kernel is `geo-kernel (ipykernel)`. If you see `Python 3 (ipykernel)`, just click on it to change it to the `geo-kernel`.\n",
    "</p>\n",
    "</span>\n",
    "</div>\n"
   ]
  },
  {
   "cell_type": "markdown",
   "metadata": {
    "tags": []
   },
   "source": [
    "---\n",
    "---\n",
    "## Shapely and geometric objects"
   ]
  },
  {
   "cell_type": "markdown",
   "metadata": {},
   "source": [
    "![Spatial data model](https://autogis-site.readthedocs.io/en/2019/_images/SpatialDataModel.PNG)\n",
    "\n",
    "*Fundamental geometric objects that can be used in Python with* [Shapely](https://shapely.readthedocs.io/en/stable/geometry.html).\n",
    "\n",
    "The most fundamental geometric objects are `Points`, `Lines` and `Polygons` which are the basic ingredients when working with spatial data in vector format. \n",
    "Python has a specific module called [Shapely](https://shapely.readthedocs.io/en/stable/manual.html) for doing various geometric operations. Basic knowledge of using Shapely is fundamental for understanding how geometries are stored and handled in GeoPandas.\n",
    "\n",
    "**Geometric objects consist of coordinate tuples where:**\n",
    "\n",
    "-  `Point` -object represents a single point in space. Points can be either two-dimensional (x, y) or three dimensional (x, y, z).\n",
    "-  `LineString` -object (i.e. a line) represents a sequence of points joined together to form a line. Hence, a line consist of a list of at least two coordinate tuples\n",
    "-  `Polygon` -object represents a filled area that consists of a list of at least three coordinate tuples that forms the outerior ring and a (possible) list of hole polygons.\n",
    "\n",
    "**It is also possible to have a collection of geometric objects (e.g. Polygons with multiple parts):**\n",
    "\n",
    "-  `MultiPoint` -object represents a collection of points and consists of a list of coordinate-tuples\n",
    "-  `MultiLineString` -object represents a collection of lines and consists of a list of line-like sequences\n",
    "-  `MultiPolygon` -object represents a collection of polygons that consists of a list of polygon-like sequences that construct from exterior ring and (possible) hole list tuples\n",
    "\n",
    "**Useful attributes and methods in Shapely include:**\n",
    "\n",
    "-  Creating lines and polygons based on a collection of point objects.\n",
    "-  Calculating areas/length/bounds etc. of input geometries\n",
    "-  Conducting geometric operations based on the input geometries such as `union`, `difference`, `distance` etc.\n",
    "-  Conducting spatial queries between geometries such as `intersects`, `touches`, `crosses`, `within` etc.\n",
    "\n",
    "\n",
    "---"
   ]
  },
  {
   "cell_type": "markdown",
   "metadata": {
    "tags": []
   },
   "source": [
    "### Point\n",
    "\n",
    "Creating point is easy, you pass x and y coordinates into `Point()` - object (possibly also z-coordinate):"
   ]
  },
  {
   "cell_type": "code",
   "execution_count": null,
   "metadata": {},
   "outputs": [],
   "source": [
    "# Import necessary geometric objects from shapely module\n",
    "from shapely.geometry import Point, LineString, Polygon\n",
    "\n",
    "# Create Point geometric object(s) with coordinates\n",
    "point1 = Point(2.2, 4.2)\n",
    "point2 = Point(7.2, -25.1)\n",
    "point3 = Point(9.26, -2.456)\n",
    "point3D = Point(9.26, -2.456, 0.57)"
   ]
  },
  {
   "cell_type": "markdown",
   "metadata": {},
   "source": [
    "Let's see what these variables now contain: "
   ]
  },
  {
   "cell_type": "code",
   "execution_count": null,
   "metadata": {},
   "outputs": [],
   "source": [
    "point2\n"
   ]
  },
  {
   "cell_type": "markdown",
   "metadata": {},
   "source": [
    "The print statement to get information about the actual definition of these objects:"
   ]
  },
  {
   "cell_type": "code",
   "execution_count": null,
   "metadata": {},
   "outputs": [],
   "source": [
    "print(point1)\n",
    "print(point3D)"
   ]
  },
  {
   "cell_type": "markdown",
   "metadata": {},
   "source": [
    "<div class=\"alert alert-info\">\n",
    "    A 3D-point can be recognized from the capital Z -letter in front of the coordinates.\n",
    "</diV>"
   ]
  },
  {
   "cell_type": "markdown",
   "metadata": {},
   "source": [
    "Let's check also the data type of our point:"
   ]
  },
  {
   "cell_type": "code",
   "execution_count": null,
   "metadata": {},
   "outputs": [],
   "source": [
    "type(point1)"
   ]
  },
  {
   "cell_type": "markdown",
   "metadata": {},
   "source": [
    "We can see that the type of the point is shapely's Point. The point object is represented in a specific format based on\n",
    "[GEOS](https://trac.osgeo.org/geos) C++ library that is one of the standard libraries behind various Geographic Information Systems. It runs under the hood e.g. in [QGIS](http://www.qgis.org/en/site/). "
   ]
  },
  {
   "cell_type": "markdown",
   "metadata": {
    "tags": []
   },
   "source": [
    "### Point attributes and functions\n",
    "\n",
    "Points and other shapely objects have useful built-in [attributes and methods](https://shapely.readthedocs.io/en/stable/manual.html#general-attributes-and-methods). Using the available attributes, we can for example extract the coordinate values of a Point and calculate the Euclidian distance between points."
   ]
  },
  {
   "cell_type": "markdown",
   "metadata": {},
   "source": [
    "`geom_type` attribute contains information about  the geometry type of the Shapely object:"
   ]
  },
  {
   "cell_type": "code",
   "execution_count": null,
   "metadata": {},
   "outputs": [],
   "source": [
    "point1.geom_type"
   ]
  },
  {
   "cell_type": "markdown",
   "metadata": {},
   "source": [
    "Extracting the coordinates of a Point can be done in a couple of different ways:"
   ]
  },
  {
   "cell_type": "markdown",
   "metadata": {},
   "source": [
    "`coords` attribute contains the coordinate information as a `CoordinateSequence` which is another data type related to Shapely."
   ]
  },
  {
   "cell_type": "code",
   "execution_count": null,
   "metadata": {},
   "outputs": [],
   "source": [
    "# Get xy coordinate tuple\n",
    "list(point1.coords)"
   ]
  },
  {
   "cell_type": "markdown",
   "metadata": {},
   "source": [
    "Here we have a coordinate tuple inside a list. Using the attributes `x` and `y` it is possible to get the coordinates directly as plain decimal numbers."
   ]
  },
  {
   "cell_type": "code",
   "execution_count": null,
   "metadata": {
    "collapsed": false,
    "jupyter": {
     "outputs_hidden": false
    }
   },
   "outputs": [],
   "source": [
    "# Read x and y coordinates separately\n",
    "x = point1.x\n",
    "y = point1.y"
   ]
  },
  {
   "cell_type": "code",
   "execution_count": null,
   "metadata": {},
   "outputs": [],
   "source": [
    "print( x, y)"
   ]
  },
  {
   "cell_type": "markdown",
   "metadata": {},
   "source": [
    "<div class=\"alert alert-info\">\n",
    "It is also possible to calculate the distance between two objects using the [distance](https://shapely.readthedocs.io/en/stable/manual.html#object.distance) method. In our example the distance is calculated in a cartesian coordinate system. When working with real GIS data the distance is based on the used coordinate reference system. always check what is the unit of measurement (for example, meters) in the coordinate reference system you are using.\n",
    "\n",
    "Let's calculate the distance between `point1` and `point2`:\n",
    "</diV>"
   ]
  },
  {
   "cell_type": "code",
   "execution_count": null,
   "metadata": {},
   "outputs": [],
   "source": [
    "# Check input data\n",
    "print(point1)\n",
    "print(point2)"
   ]
  },
  {
   "cell_type": "code",
   "execution_count": null,
   "metadata": {
    "tags": []
   },
   "outputs": [],
   "source": [
    "# Calculate the distance between point1 and point2\n",
    "dist = point1.distance(point2)\n",
    "\n",
    "# Print out a nicely formatted info message\n",
    "print(\"Distance between the points: {0:.2f} units\".format(dist))"
   ]
  },
  {
   "cell_type": "markdown",
   "metadata": {
    "tags": []
   },
   "source": [
    "### LineString\n",
    "\n",
    "\n",
    "Creating LineString -objects is fairly similar to creating Shapely Points. \n",
    "\n",
    "Now instead using a single coordinate-tuple we can construct the line using either a list of shapely Point -objects or pass the points as coordinate-tuples:"
   ]
  },
  {
   "cell_type": "code",
   "execution_count": null,
   "metadata": {
    "collapsed": false,
    "jupyter": {
     "outputs_hidden": false
    }
   },
   "outputs": [],
   "source": [
    "# Create a LineString from our Point objects\n",
    "line = LineString([point1, point2, point3])"
   ]
  },
  {
   "cell_type": "code",
   "execution_count": null,
   "metadata": {},
   "outputs": [],
   "source": [
    "# It is also possible to produce the same outcome using coordinate tuples\n",
    "line2 = LineString([(2.2, 4.2), (7.2, -25.1), (9.26, -2.456)])"
   ]
  },
  {
   "cell_type": "code",
   "execution_count": null,
   "metadata": {},
   "outputs": [],
   "source": [
    "# Check if lines are identical\n",
    "line == line2 "
   ]
  },
  {
   "cell_type": "markdown",
   "metadata": {},
   "source": [
    "Let's see how our line looks like: "
   ]
  },
  {
   "cell_type": "code",
   "execution_count": null,
   "metadata": {},
   "outputs": [],
   "source": [
    "line"
   ]
  },
  {
   "cell_type": "code",
   "execution_count": null,
   "metadata": {},
   "outputs": [],
   "source": [
    "print(line)"
   ]
  },
  {
   "cell_type": "markdown",
   "metadata": {},
   "source": [
    "As we can see from above, the `line` -variable constitutes of multiple coordinate-pairs."
   ]
  },
  {
   "cell_type": "markdown",
   "metadata": {},
   "source": [
    "Check also the data type:"
   ]
  },
  {
   "cell_type": "code",
   "execution_count": null,
   "metadata": {},
   "outputs": [],
   "source": [
    "# Check data type of the line object\n",
    "type(line)"
   ]
  },
  {
   "cell_type": "code",
   "execution_count": null,
   "metadata": {},
   "outputs": [],
   "source": [
    "# Check geometry type of the line object\n",
    "line.geom_type"
   ]
  },
  {
   "cell_type": "markdown",
   "metadata": {
    "tags": []
   },
   "source": [
    "### LineString attributes and functions\n",
    "\n",
    "\n",
    "`LineString` -object has many useful built-in attributes and functionalities. It is for instance possible to extract the coordinates or the length of a LineString (line), calculate the centroid of the line, create points along the line at specific distance, calculate the closest distance from a line to specified Point and simplify the geometry. See full list of functionalities from [Shapely documentation](http://toblerity.org/shapely/manual.html). Here, we go through a few of them.\n",
    "\n",
    "We can extract the coordinates of a LineString similarly as with `Point`"
   ]
  },
  {
   "cell_type": "code",
   "execution_count": null,
   "metadata": {
    "collapsed": false,
    "jupyter": {
     "outputs_hidden": false
    }
   },
   "outputs": [],
   "source": [
    "# Get xy coordinate tuples\n",
    "list(line.coords)"
   ]
  },
  {
   "cell_type": "markdown",
   "metadata": {},
   "source": [
    "Again, we have a list of coordinate tuples (x,y) inside a list.\n",
    "\n",
    "If you would need to access all x-coordinates or all y-coordinates of the line, you can do it directly using the `xy` attribute: "
   ]
  },
  {
   "cell_type": "code",
   "execution_count": null,
   "metadata": {
    "collapsed": false,
    "jupyter": {
     "outputs_hidden": false
    }
   },
   "outputs": [],
   "source": [
    "# Extract x and y coordinates separately\n",
    "xcoords = list(line.xy[0])\n",
    "ycoords = list(line.xy[1])"
   ]
  },
  {
   "cell_type": "code",
   "execution_count": null,
   "metadata": {},
   "outputs": [],
   "source": [
    "print(xcoords)\n",
    "print(ycoords)"
   ]
  },
  {
   "cell_type": "markdown",
   "metadata": {},
   "source": [
    "It is possible to retrieve specific attributes such as lenght of the line and center of the line (centroid) straight from the LineString object itself:"
   ]
  },
  {
   "cell_type": "code",
   "execution_count": null,
   "metadata": {
    "collapsed": false,
    "jupyter": {
     "outputs_hidden": false
    }
   },
   "outputs": [],
   "source": [
    "# Get the lenght of the line\n",
    "l_length = line.length\n",
    "print(\"Length of our line: {0:.2f} units\".format(l_length))"
   ]
  },
  {
   "cell_type": "code",
   "execution_count": null,
   "metadata": {},
   "outputs": [],
   "source": [
    "# Get the centroid of the line\n",
    "print(line.centroid)"
   ]
  },
  {
   "cell_type": "markdown",
   "metadata": {},
   "source": [
    "As you can see, the centroid of the line is again a Shapely Point object. "
   ]
  },
  {
   "cell_type": "markdown",
   "metadata": {
    "tags": []
   },
   "source": [
    "### Polygon\n",
    "\n",
    "\n",
    "Creating a `Polygon` -object continues the same logic of how `Point` and `LineString` were created but Polygon object only accepts a sequence of coordinates as input. \n",
    "\n",
    "Polygon needs **at least three coordinate-tuples** (three points are reguired to form a surface):"
   ]
  },
  {
   "cell_type": "code",
   "execution_count": null,
   "metadata": {
    "collapsed": false,
    "jupyter": {
     "outputs_hidden": false
    }
   },
   "outputs": [],
   "source": [
    "# Create a Polygon from the coordinates\n",
    "poly = Polygon([(2.2, 4.2), (7.2, -25.1), (9.26, -2.456)])"
   ]
  },
  {
   "cell_type": "markdown",
   "metadata": {},
   "source": [
    "We can also use information from the Shapely Point objects created earlier, but we can't use the point objects directly. Instead, we need to get information of the x,y coordinate pairs as a sequence. We can achieve this by using a list comprehension."
   ]
  },
  {
   "cell_type": "code",
   "execution_count": null,
   "metadata": {},
   "outputs": [],
   "source": [
    "# Create a Polygon based on information from the Shapely points\n",
    "poly2 = Polygon([[p.x, p.y] for p in [point1, point2, point3]])"
   ]
  },
  {
   "cell_type": "markdown",
   "metadata": {},
   "source": [
    "In order to understand what just happened, let's check what the list comprehension produces:"
   ]
  },
  {
   "cell_type": "code",
   "execution_count": null,
   "metadata": {},
   "outputs": [],
   "source": [
    "[[p.x, p.y] for p in [point1, point2, point3]]"
   ]
  },
  {
   "cell_type": "markdown",
   "metadata": {},
   "source": [
    "This list of lists was passed as input for creating the Polygon."
   ]
  },
  {
   "cell_type": "code",
   "execution_count": null,
   "metadata": {},
   "outputs": [],
   "source": [
    "# Check that polygon objects created using two different approaches are identical\n",
    "poly == poly2"
   ]
  },
  {
   "cell_type": "markdown",
   "metadata": {},
   "source": [
    "Let's see how our Polygon looks like: visualize and print"
   ]
  },
  {
   "cell_type": "code",
   "execution_count": null,
   "metadata": {},
   "outputs": [],
   "source": [
    "poly"
   ]
  },
  {
   "cell_type": "code",
   "execution_count": null,
   "metadata": {},
   "outputs": [],
   "source": [
    "print(poly)"
   ]
  },
  {
   "cell_type": "markdown",
   "metadata": {},
   "source": [
    "Note: A `Polygon` representation has double parentheses around the coordinates (i.e. `POLYGON ((<values in here>))` ). This is because Polygon can also have holes inside of it."
   ]
  },
  {
   "cell_type": "markdown",
   "metadata": {},
   "source": [
    "Check the data type:"
   ]
  },
  {
   "cell_type": "code",
   "execution_count": null,
   "metadata": {},
   "outputs": [],
   "source": [
    "# Data type\n",
    "type(poly)"
   ]
  },
  {
   "cell_type": "code",
   "execution_count": null,
   "metadata": {},
   "outputs": [],
   "source": [
    "# Geometry type\n",
    "poly.geom_type"
   ]
  },
  {
   "cell_type": "code",
   "execution_count": null,
   "metadata": {},
   "outputs": [],
   "source": [
    "# Check the help for Polygon objects:\n",
    "#help(Polygon) #Remove the hashtag at the beginning of the line and run the cell to see the help documentation for polygon"
   ]
  },
  {
   "cell_type": "markdown",
   "metadata": {},
   "source": [
    "<div class=\"alert alert-info\">\n",
    "    \n",
    "According to the [official documentation](https://shapely.readthedocs.io/en/stable/manual.html#polygons) of Polygon-object, a Polygon can be constructed using exterior coordinates and interior coordinates (optional) where the interior coordinates creates a hole inside the Polygon:\n",
    "    \n",
    "</div>"
   ]
  },
  {
   "cell_type": "markdown",
   "metadata": {},
   "source": [
    "Let's create a `Polygon` with a hole:"
   ]
  },
  {
   "cell_type": "code",
   "execution_count": null,
   "metadata": {},
   "outputs": [],
   "source": [
    "# Define the outer border\n",
    "border = [(-180, 90), (-180, -90), (180, -90), (180, 90)]"
   ]
  },
  {
   "cell_type": "code",
   "execution_count": null,
   "metadata": {},
   "outputs": [],
   "source": [
    "# Outer polygon\n",
    "world = Polygon(shell=border)\n",
    "print(world)"
   ]
  },
  {
   "cell_type": "code",
   "execution_count": null,
   "metadata": {},
   "outputs": [],
   "source": [
    "world"
   ]
  },
  {
   "cell_type": "code",
   "execution_count": null,
   "metadata": {},
   "outputs": [],
   "source": [
    "# Let's create a single big hole where we leave ten units at the boundaries\n",
    "# Note: there could be multiple holes, so we need to provide list of coordinates for the hole inside a list\n",
    "hole = [[(-170, 80), (-170, -80), (170, -80), (170, 80)]]"
   ]
  },
  {
   "cell_type": "code",
   "execution_count": null,
   "metadata": {},
   "outputs": [],
   "source": [
    "# Now we can construct our Polygon with the hole inside\n",
    "frame = Polygon(shell=border, holes=hole)\n",
    "print(frame)"
   ]
  },
  {
   "cell_type": "markdown",
   "metadata": {},
   "source": [
    "Let's see what we have now:"
   ]
  },
  {
   "cell_type": "code",
   "execution_count": null,
   "metadata": {},
   "outputs": [],
   "source": [
    "frame"
   ]
  },
  {
   "cell_type": "markdown",
   "metadata": {},
   "source": [
    "As we can see the `Polygon` has now two different tuples of coordinates. The first one represents the **outerior** and the second one represents the **hole-interior** inside of the Polygon."
   ]
  },
  {
   "cell_type": "markdown",
   "metadata": {
    "tags": []
   },
   "source": [
    "### Polygon attributes and functions\n",
    "\n",
    "\n",
    "We can again access different attributes directly from the `Polygon` object itself that can be really useful for many analyses, such as `area`, `centroid`, `bounding box`, `exterior`, and `exterior-length`. See a full list of methods in the [Shapely User Manual](https://shapely.readthedocs.io/en/stable/manual.html#the-shapely-user-manual).\n",
    "\n",
    "Here, we can see a few of the available attributes and how to access them:"
   ]
  },
  {
   "cell_type": "code",
   "execution_count": null,
   "metadata": {},
   "outputs": [],
   "source": [
    "# Print the outputs\n",
    "print(\"Polygon centroid: \", world.centroid)\n",
    "print(\"Polygon Area: \",  world.area)\n",
    "print(\"Polygon Bounding Box: \", world.bounds)\n",
    "print(\"Polygon Exterior: \", world.exterior)\n",
    "print(\"Polygon Exterior Length: \", world.exterior.length)"
   ]
  },
  {
   "cell_type": "markdown",
   "metadata": {},
   "source": [
    "As we can see above, it is again fairly straightforward to access different attributes from the `Polygon` -object. Note that distance metrics will make more sense when we start working with data in a projected coordinate system."
   ]
  },
  {
   "cell_type": "markdown",
   "metadata": {},
   "source": [
    "#### 👩‍💻 Check your understanding\n",
    "\n",
    "Plot these shapes using Shapely!\n",
    "\n",
    "- **Pentagon**, example coords: `(30, 2.01), (31.91, 0.62), (31.18, -1.63), (28.82, -1.63), (28.09, 0.62)` \n",
    "- **Triangle**   \n",
    "- **Square**    \n",
    "- **Cicrle**    \n"
   ]
  },
  {
   "cell_type": "code",
   "execution_count": null,
   "metadata": {},
   "outputs": [],
   "source": [
    "# Pentagon - Coordinates borrowed from this thread: https://tex.stackexchange.com/questions/179843/make-a-polygon-with-automatically-labelled-nodes-according-to-their-coordinates\n",
    "Polygon([(30, 2.01), (31.91, 0.62), (31.18, -1.63), (28.82, -1.63), (28.09, 0.62)])"
   ]
  },
  {
   "cell_type": "code",
   "execution_count": null,
   "metadata": {},
   "outputs": [],
   "source": [
    "# Triangle\n",
    "Polygon([(0,0), (2,4), (4,0)])"
   ]
  },
  {
   "cell_type": "code",
   "execution_count": null,
   "metadata": {},
   "outputs": [],
   "source": [
    "# Square\n",
    "Polygon([(0,0), (0,4), (4,4), (4,0)])"
   ]
  },
  {
   "cell_type": "code",
   "execution_count": null,
   "metadata": {},
   "outputs": [],
   "source": [
    "# Circle (using a buffer around a point)\n",
    "point = Point((0,0))\n",
    "point.buffer(1)"
   ]
  },
  {
   "cell_type": "markdown",
   "metadata": {},
   "source": [
    "## What we learned until now 😎? \n",
    "\n",
    "In this section we introduced the first steps of using the shapely package. More specifically you should know how to:\n",
    "\n",
    "1. Create lines and polygons based on a collection of point objects\n",
    "\n",
    "2. Check their attributes (i.e. type, geometry and coordindates)\n",
    "\n",
    "3. Calculate areas/length/bounds etc. of input geometries\n",
    "\n",
    "\n",
    " "
   ]
  },
  {
   "cell_type": "markdown",
   "metadata": {},
   "source": [
    "---\n",
    "---"
   ]
  },
  {
   "cell_type": "markdown",
   "metadata": {},
   "source": [
    "## Geopandas and spatial data analysis\n",
    "\n",
    "In this section of our notebook we will cover basics functionalities to interact with spatial data in Python using geopandas such as:\n",
    "- Managing filepaths\n",
    "- Reading spatial data from file \n",
    "- Geometry calculations \n",
    "- Writing spatial data to file\n",
    "- Grouping and splitting spatial data into multiple layers"
   ]
  },
  {
   "cell_type": "markdown",
   "metadata": {},
   "source": [
    "### Managing filepaths\n",
    "\n",
    "Built-in module `os` provides many useful functions for interacting with our operating system. One of the most useful submodules in the os package is the [os.path-module](https://docs.python.org/2/library/os.path.html) for manipulating file paths. In case your data are located in different sub-folders, you use `os` path tools to define the filepaths.\n",
    "\n",
    "Let's import `os` and see how we can construct a filepath by joining a folder path and file name:"
   ]
  },
  {
   "cell_type": "code",
   "execution_count": null,
   "metadata": {},
   "outputs": [],
   "source": [
    "import os\n",
    "\n",
    "# Define path to folder\n",
    "input_folder = r\"../data/input_data\"\n",
    "\n",
    "# Join folder path and filename \n",
    "fp = os.path.join(input_folder, \"osm_roads.shp\")\n",
    "\n",
    "# Print out the full file path\n",
    "print(fp)"
   ]
  },
  {
   "cell_type": "markdown",
   "metadata": {},
   "source": [
    "### Reading a Shapefile\n",
    "\n",
    "Esri Shapefile is the default file format when reading in data usign geopandas, so we only need to pass the file path in order to read in our data:"
   ]
  },
  {
   "cell_type": "code",
   "execution_count": null,
   "metadata": {},
   "outputs": [],
   "source": [
    "import geopandas as gpd\n",
    "\n",
    "# Read file using gpd.read_file()\n",
    "data = gpd.read_file(fp)"
   ]
  },
  {
   "cell_type": "markdown",
   "metadata": {},
   "source": [
    "Check the first 5 rows of our shapefile:"
   ]
  },
  {
   "cell_type": "code",
   "execution_count": null,
   "metadata": {},
   "outputs": [],
   "source": [
    "data.head()"
   ]
  },
  {
   "cell_type": "markdown",
   "metadata": {},
   "source": [
    "We can see how our shapefile looks like, by simply plotting it:"
   ]
  },
  {
   "cell_type": "code",
   "execution_count": null,
   "metadata": {},
   "outputs": [],
   "source": [
    "data.plot(color='#910909')"
   ]
  },
  {
   "cell_type": "markdown",
   "metadata": {},
   "source": [
    "### Reading a Geopackage\n",
    "\n",
    "After reading and plotting an individual shapefile, let's now read and plot also a geopackage."
   ]
  },
  {
   "cell_type": "code",
   "execution_count": null,
   "metadata": {},
   "outputs": [],
   "source": [
    "import os\n",
    "\n",
    "# Define path to folder\n",
    "input_folder = r\"../data/input_data\"\n",
    "\n",
    "# Join folder path and filename \n",
    "gpkg_path = os.path.join(input_folder, \"osm_utrecht_science_park.gpkg\")\n",
    "\n",
    "# Print out the full file path\n",
    "print(gpkg_path)"
   ]
  },
  {
   "cell_type": "markdown",
   "metadata": {},
   "source": [
    "As we are going to work with the geopackage and not with individual shapefiles, we need firstly to check the available layers in our geopackage. For this puropse we will use the `.listlayers()` function, from the `fiona` package"
   ]
  },
  {
   "cell_type": "code",
   "execution_count": null,
   "metadata": {},
   "outputs": [],
   "source": [
    "import fiona\n",
    "\n",
    "layer_names = fiona.listlayers(gpkg_path)\n",
    "print(layer_names)"
   ]
  },
  {
   "cell_type": "markdown",
   "metadata": {},
   "source": [
    "<div class=\"alert alert-info\">\n",
    "    \n",
    "! **Reading the geopackage itself without specifying the required layers for our analysis, will result into creating a GeoDataFrame with only the first layer from our geopackage**:\n",
    "    \n",
    "</div>"
   ]
  },
  {
   "cell_type": "code",
   "execution_count": null,
   "metadata": {},
   "outputs": [],
   "source": [
    "# Read file using gpd.read_file()\n",
    "data = gpd.read_file(gpkg_path) # This line of code will read only the first layer from the .gpkg file"
   ]
  },
  {
   "cell_type": "markdown",
   "metadata": {},
   "source": [
    "Lets preview our loaded data"
   ]
  },
  {
   "cell_type": "code",
   "execution_count": null,
   "metadata": {},
   "outputs": [],
   "source": [
    "data"
   ]
  },
  {
   "cell_type": "markdown",
   "metadata": {},
   "source": [
    "Check the number of exsting codes and classes in data:"
   ]
  },
  {
   "cell_type": "code",
   "execution_count": null,
   "metadata": {},
   "outputs": [],
   "source": [
    "print(\"Number of rows:\", len(data['fclass']),\", instead of 3274 in total\")\n",
    "print(\"---\")\n",
    "print(\"Number of classes:\", data['fclass'].nunique(),\", instead of 86 in total\")\n",
    "print(\"---\")\n",
    "print(\"Number of codes:\", data['code'].nunique(),\", instead of 87 in total\")\n",
    "print(\"---\")"
   ]
  },
  {
   "cell_type": "markdown",
   "metadata": {},
   "source": [
    "As you can see, we have just loaded only the first layer from our gpkg file and we are missing most of our data. \n",
    "\n",
    "<div class=\"alert alert-info\">\n",
    "    \n",
    "**For this reason, it is recommended to load you data on an individual basis**, because: \n",
    "- you are able to work only with specific layers of your preference without consuming too many resources (i.e. memory),\n",
    "- ensure that you include all the data from a layer with no conflicts or issues\n",
    "- have better and well-organized workflow when coding\n",
    "\n",
    "</div>\n",
    "\n",
    "We can load our preferred layers from the gpkg file as follows:"
   ]
  },
  {
   "cell_type": "code",
   "execution_count": null,
   "metadata": {},
   "outputs": [],
   "source": [
    "#Read layers from GPKG file\n",
    "water_areas = gpd.read_file(gpkg_path, layer=\"osm_water_areas\")\n",
    "buildings = gpd.read_file(gpkg_path, layer=\"osm_buildings\")\n",
    "landuse = gpd.read_file(gpkg_path, layer=\"osm_landuse\")\n",
    "roads = gpd.read_file(gpkg_path, layer=\"osm_roads\")\n",
    "parking = gpd.read_file(gpkg_path, layer=\"osm_traffic\")"
   ]
  },
  {
   "cell_type": "markdown",
   "metadata": {},
   "source": [
    "Let's check the data type of one layer:"
   ]
  },
  {
   "cell_type": "code",
   "execution_count": null,
   "metadata": {},
   "outputs": [],
   "source": [
    "type(landuse)"
   ]
  },
  {
   "cell_type": "markdown",
   "metadata": {},
   "source": [
    "<div class=\"alert alert-info\">\n",
    "    \n",
    "Here we see that our `landuse` -variable is a `GeoDataFrame`. GeoDataFrame extends the functionalities of\n",
    "`pandas.DataFrame` in a way that it is possible to handle spatial data using similar approaches and datastructures as in pandas (hence the name geopandas). \n",
    "    \n",
    "</div>\n",
    "\n",
    "Let's check the first rows of \"landuse\" layer: "
   ]
  },
  {
   "cell_type": "code",
   "execution_count": null,
   "metadata": {},
   "outputs": [],
   "source": [
    "landuse.head()"
   ]
  },
  {
   "cell_type": "markdown",
   "metadata": {},
   "source": [
    "### Layer Projection (CRS) & Reprojection"
   ]
  },
  {
   "cell_type": "markdown",
   "metadata": {},
   "source": [
    "<div class=\"alert alert-info\">\n",
    "    \n",
    "When working with geospatial data is always important to check their **Coordinate Reference System (CRS)**, because the geometric shapes-objects in a GeoSeries or GeoDataFrame object are simply a collection of coordinates in an arbitrary space. A CRS tells Python or a GIS software, how those coordinates relate to actual places on the Earth. There are many different CRS out there, but for our demo, we will use the default CRS of the Netherlands the `EPSG:28992` or as it is widely known `Amersfoort/RD New`.\n",
    "    \n",
    "</div>"
   ]
  },
  {
   "cell_type": "markdown",
   "metadata": {},
   "source": [
    "Let's check the CRS of our \"landuse\" layer using the .crs function of geopandas:"
   ]
  },
  {
   "cell_type": "code",
   "execution_count": null,
   "metadata": {},
   "outputs": [],
   "source": [
    "landuse.crs"
   ]
  },
  {
   "cell_type": "markdown",
   "metadata": {},
   "source": [
    "By looking at the output we can see that the `landuse` layer is already projected with the correct CRS, `EPSG:28992`. This sensible, as we (the workshop tutors) have already projected and exported the data for our demo using the appropriate CRS, just to make sure that we will not face any issues with wrong projections.   \n",
    "\n",
    "Now let's check, if we have also the same CRS for the rest of our layers:"
   ]
  },
  {
   "cell_type": "code",
   "execution_count": null,
   "metadata": {},
   "outputs": [],
   "source": [
    "print(water_areas.crs)\n",
    "print(buildings.crs)\n",
    "print(roads.crs)\n",
    "print(parking.crs)"
   ]
  },
  {
   "cell_type": "markdown",
   "metadata": {},
   "source": [
    "Indeed, all the layers are projected with the correct CRS!"
   ]
  },
  {
   "cell_type": "markdown",
   "metadata": {},
   "source": [
    "In case you want to, you can change the projection of a layer just by using the function .to_crs(). We will try to reproject the parking layer:"
   ]
  },
  {
   "cell_type": "code",
   "execution_count": null,
   "metadata": {},
   "outputs": [],
   "source": [
    "reproj_parking = parking.to_crs(\"WGS 84\")"
   ]
  },
  {
   "cell_type": "code",
   "execution_count": null,
   "metadata": {},
   "outputs": [],
   "source": [
    "print(\"Previous projection of 'parking' layer:\", parking.crs)\n",
    "print(\"New projection of 'parking' layer:\", reproj_parking.crs)"
   ]
  },
  {
   "cell_type": "markdown",
   "metadata": {},
   "source": [
    "Check the column names:"
   ]
  },
  {
   "cell_type": "code",
   "execution_count": null,
   "metadata": {},
   "outputs": [],
   "source": [
    "landuse.columns.values"
   ]
  },
  {
   "cell_type": "markdown",
   "metadata": {},
   "source": [
    "Let's select only the useful columns and rename them, using more descriptive names:"
   ]
  },
  {
   "cell_type": "code",
   "execution_count": null,
   "metadata": {},
   "outputs": [],
   "source": [
    "landuse = landuse[['code', 'fclass',  'geometry']]"
   ]
  },
  {
   "cell_type": "markdown",
   "metadata": {},
   "source": [
    "Define new column names in a dictionary:"
   ]
  },
  {
   "cell_type": "code",
   "execution_count": null,
   "metadata": {},
   "outputs": [],
   "source": [
    "colnames = {'code':'GROUP', 'fclass':'CLASS'}"
   ]
  },
  {
   "cell_type": "markdown",
   "metadata": {},
   "source": [
    "Rename:"
   ]
  },
  {
   "cell_type": "code",
   "execution_count": null,
   "metadata": {},
   "outputs": [],
   "source": [
    "landuse.rename(columns=colnames, inplace=True)"
   ]
  },
  {
   "cell_type": "markdown",
   "metadata": {},
   "source": [
    "Check the output:"
   ]
  },
  {
   "cell_type": "code",
   "execution_count": null,
   "metadata": {},
   "outputs": [],
   "source": [
    "landuse.head()"
   ]
  },
  {
   "cell_type": "markdown",
   "metadata": {},
   "source": [
    "#### 👩‍💻 Check your understanding"
   ]
  },
  {
   "cell_type": "markdown",
   "metadata": {},
   "source": [
    "Figure out the following information from our input data using your pandas skills:\n",
    "    \n",
    "- Number of rows?\n",
    "- Number of classes?\n",
    "- Number of groups?\n"
   ]
  },
  {
   "cell_type": "code",
   "execution_count": null,
   "metadata": {},
   "outputs": [],
   "source": [
    "print(\"Number of rows\", len(landuse['CLASS']))\n",
    "print(\"Number of classes\", landuse['CLASS'].nunique())\n",
    "print(\"Number of groups\", landuse['GROUP'].nunique())"
   ]
  },
  {
   "cell_type": "markdown",
   "metadata": {},
   "source": [
    "<div class=\"alert alert-info\">\n",
    "    \n",
    "It is always a good idea to explore your data also on a map. Creating a simple map from a `GeoDataFrame` is really easy: you can use ``.plot()`` -function from geopandas that  **creates a map based on the geometries of the data** . Geopandas actually uses matplotlib for plotting.\n",
    "\n",
    "</div>\n",
    "\n",
    "Let's try it out, and plot our GeoDataFrame:"
   ]
  },
  {
   "cell_type": "code",
   "execution_count": null,
   "metadata": {},
   "outputs": [],
   "source": [
    "landuse.plot(color=\"#4F7942\")"
   ]
  },
  {
   "cell_type": "markdown",
   "metadata": {},
   "source": [
    "...Presto! As you can see, it is really easy to produce a map out of your Layer with geopandas. Geopandas automatically positions your map in a way that it covers the whole extent of your data."
   ]
  },
  {
   "cell_type": "markdown",
   "metadata": {},
   "source": [
    "### Geometries in Geopandas\n",
    "\n",
    "Geopandas takes advantage of Shapely's geometric objects. Geometries are stored in a column called *geometry* that is a default column name for\n",
    "storing geometric information in geopandas."
   ]
  },
  {
   "cell_type": "markdown",
   "metadata": {},
   "source": [
    "Let's print the first 5 rows of the column 'geometry':"
   ]
  },
  {
   "cell_type": "code",
   "execution_count": null,
   "metadata": {
    "collapsed": false,
    "jupyter": {
     "outputs_hidden": false
    }
   },
   "outputs": [],
   "source": [
    "landuse['geometry'].head()"
   ]
  },
  {
   "cell_type": "markdown",
   "metadata": {},
   "source": [
    "As we can see the `geometry` column contains familiar looking values, namely Shapely `MultiPolygon` -objects. Since the spatial data is stored as Shapely objects, **it is possible to use Shapely methods** when dealing with geometries in geopandas.\n",
    "\n",
    "Let's have a closer look at the multi-polygons and try to apply some of the Shapely methods we are already familiar with.\n",
    "\n",
    "Let's start by checking the area of the first multi-polygon in the data:"
   ]
  },
  {
   "cell_type": "code",
   "execution_count": null,
   "metadata": {},
   "outputs": [],
   "source": [
    "# Access the geometry on the first row of data\n",
    "landuse.at[0, \"geometry\"]"
   ]
  },
  {
   "cell_type": "code",
   "execution_count": null,
   "metadata": {},
   "outputs": [],
   "source": [
    "# Print information about the area \n",
    "print(\"Area:\", round(landuse.at[0, \"geometry\"].area, 0), \"square meters\")"
   ]
  },
  {
   "cell_type": "markdown",
   "metadata": {},
   "source": [
    "\n",
    "Let's do the same for the first five rows in the data; \n",
    "\n",
    "- Iterate over the GeoDataFrame rows using the [`iterrows()` -function](https://pandas.pydata.org/docs/reference/api/pandas.DataFrame.iterrows.html).\n",
    "- For each row, print the area of the polygon (here, we'll limit the for-loop to a selection of the first five rows):"
   ]
  },
  {
   "cell_type": "code",
   "execution_count": null,
   "metadata": {
    "collapsed": false,
    "jupyter": {
     "outputs_hidden": false
    }
   },
   "outputs": [],
   "source": [
    "# Iterate over rows and print the area of a Polygon\n",
    "for index, row in landuse[0:5].iterrows():\n",
    "    \n",
    "    # Get the area from the shapely-object stored in the geometry-column\n",
    "    poly_area = row['geometry'].area\n",
    "    \n",
    "    # Print info\n",
    "    print(\"Polygon area at index {index}: {area:.0f} square meters\".format(index=index, area=poly_area))"
   ]
  },
  {
   "cell_type": "markdown",
   "metadata": {},
   "source": [
    "<div class=\"alert alert-info\">\n",
    "    \n",
    "As you see from here, all **pandas** methods, such as the `iterrows()` function, are directly available in Geopandas without the need to call pandas separately because Geopandas is an **extension** for pandas. \n",
    "\n",
    "In practice, it is not necessary to use the iterrows()-approach to calculate the area for all features. Geodataframes and geoseries have an attribute `area` which we can use for accessing the area for each feature at once: \n",
    "\n",
    "</div>"
   ]
  },
  {
   "cell_type": "code",
   "execution_count": null,
   "metadata": {},
   "outputs": [],
   "source": [
    "landuse.area"
   ]
  },
  {
   "cell_type": "markdown",
   "metadata": {},
   "source": [
    "Let's next create a new column into our GeoDataFrame where we calculate and store the areas of individual polygons:"
   ]
  },
  {
   "cell_type": "code",
   "execution_count": null,
   "metadata": {
    "collapsed": false,
    "jupyter": {
     "outputs_hidden": false
    }
   },
   "outputs": [],
   "source": [
    "# Create a new column called 'area' \n",
    "landuse['area'] = landuse.area"
   ]
  },
  {
   "cell_type": "markdown",
   "metadata": {},
   "source": [
    "Check the output:"
   ]
  },
  {
   "cell_type": "code",
   "execution_count": null,
   "metadata": {},
   "outputs": [],
   "source": [
    "landuse['area']"
   ]
  },
  {
   "cell_type": "markdown",
   "metadata": {},
   "source": [
    "These values correspond to the ones we saw in previous step when iterating rows.\n",
    "\n",
    "Let's check now, what is the `min`, `max` and `mean` of those areas using familiar functions from our previous Pandas lessions."
   ]
  },
  {
   "cell_type": "code",
   "execution_count": null,
   "metadata": {},
   "outputs": [],
   "source": [
    "# Maximum area\n",
    "round(landuse['area'].max(), 2)"
   ]
  },
  {
   "cell_type": "code",
   "execution_count": null,
   "metadata": {},
   "outputs": [],
   "source": [
    "# Minimum area\n",
    "round(landuse['area'].min(), 2)"
   ]
  },
  {
   "cell_type": "code",
   "execution_count": null,
   "metadata": {},
   "outputs": [],
   "source": [
    "# Average area\n",
    "round(landuse['area'].mean(), 2)"
   ]
  },
  {
   "cell_type": "markdown",
   "metadata": {},
   "source": [
    "### Writing data into a shapefile\n",
    "\n",
    "It is possible to export GeoDataFrames into various data formats using the [to_file()](http://geopandas.org/io.html#writing-spatial-data) method. In our case, we want to export subsets of the data into Shapefiles (one file for each feature class).\n",
    "\n",
    "\n",
    "Let's first check all the different classes of the `landuse` layer"
   ]
  },
  {
   "cell_type": "code",
   "execution_count": null,
   "metadata": {},
   "outputs": [],
   "source": [
    "landuse['CLASS'].unique()"
   ]
  },
  {
   "cell_type": "markdown",
   "metadata": {},
   "source": [
    "We can select one class (class: **forest** ) from the data as a new GeoDataFrame:"
   ]
  },
  {
   "cell_type": "code",
   "execution_count": null,
   "metadata": {},
   "outputs": [],
   "source": [
    "# Select a class\n",
    "selection = landuse.loc[landuse[\"CLASS\"]==\"forest\"]"
   ]
  },
  {
   "cell_type": "markdown",
   "metadata": {},
   "source": [
    "Check the selection:"
   ]
  },
  {
   "cell_type": "code",
   "execution_count": null,
   "metadata": {},
   "outputs": [],
   "source": [
    "selection.plot(color=\"#2b9662\")"
   ]
  },
  {
   "cell_type": "markdown",
   "metadata": {},
   "source": [
    "write this layer into a new Shapefile using the `gpd.to_file()` -function:"
   ]
  },
  {
   "cell_type": "code",
   "execution_count": null,
   "metadata": {},
   "outputs": [],
   "source": [
    "# Create a output path for the data\n",
    "output_folder = r\"../data/output_data\"\n",
    "if not os.path.exists(output_folder):\n",
    "    os.makedirs(output_folder)\n",
    "\n",
    "output_fp = os.path.join(output_folder, \"forest.shp\")"
   ]
  },
  {
   "cell_type": "code",
   "execution_count": null,
   "metadata": {},
   "outputs": [],
   "source": [
    "# Write those rows into a new file (the default output file format is Shapefile)\n",
    "selection.to_file(output_fp)"
   ]
  },
  {
   "cell_type": "markdown",
   "metadata": {},
   "source": [
    "#### 👩‍💻 Check your understanding"
   ]
  },
  {
   "cell_type": "markdown",
   "metadata": {},
   "source": [
    "<div class=\"alert alert-info\">\n",
    "\n",
    "Read the output Shapefile in a new geodataframe, and check that the data looks ok.\n",
    "</div>"
   ]
  },
  {
   "cell_type": "code",
   "execution_count": null,
   "metadata": {},
   "outputs": [],
   "source": [
    "temp = gpd.read_file(output_fp)"
   ]
  },
  {
   "cell_type": "code",
   "execution_count": null,
   "metadata": {},
   "outputs": [],
   "source": [
    "# Check first rows\n",
    "temp.head()"
   ]
  },
  {
   "cell_type": "code",
   "execution_count": null,
   "metadata": {},
   "outputs": [],
   "source": [
    "temp['CLASS'].unique()"
   ]
  },
  {
   "cell_type": "code",
   "execution_count": null,
   "metadata": {},
   "outputs": [],
   "source": [
    "# You can also plot the data for a visual check\n",
    "temp.plot(color='gray')"
   ]
  },
  {
   "cell_type": "markdown",
   "metadata": {},
   "source": [
    "### Grouping the Geodataframe\n",
    "\n",
    "One really useful function that can be used in Pandas/Geopandas is [groupby()](http://pandas.pydata.org/pandas-docs/stable/generated/pandas.DataFrame.groupby.html) which groups data based on values on selected column(s).\n",
    "\n",
    "Next we will automate the file export task; we will group the data based on column `CLASS` and export a shapefile for each class.\n",
    "\n",
    "Let's continue with the same input file we already read previously into the variable `data`. We also selected and renamed a subset of the columns.\n",
    "\n",
    "Check again the first rows of our input data:"
   ]
  },
  {
   "cell_type": "code",
   "execution_count": null,
   "metadata": {},
   "outputs": [],
   "source": [
    "landuse.head()"
   ]
  },
  {
   "cell_type": "markdown",
   "metadata": {},
   "source": [
    "The `CLASS` column in the data contains information about different land use types. With `.unique()` -function we can quickly see all different values in that column:"
   ]
  },
  {
   "cell_type": "code",
   "execution_count": null,
   "metadata": {
    "collapsed": false,
    "jupyter": {
     "outputs_hidden": false
    }
   },
   "outputs": [],
   "source": [
    "# Print all unique values in the column\n",
    "landuse['CLASS'].unique()"
   ]
  },
  {
   "cell_type": "markdown",
   "metadata": {},
   "source": [
    "\n",
    "Now we can use that information to group our data and save all land use types into different layers:"
   ]
  },
  {
   "cell_type": "code",
   "execution_count": null,
   "metadata": {
    "collapsed": false,
    "jupyter": {
     "outputs_hidden": false
    }
   },
   "outputs": [],
   "source": [
    "# Group the data by class\n",
    "grouped = landuse.groupby(\"CLASS\")\n",
    "\n",
    "# Let's see what we have\n",
    "grouped"
   ]
  },
  {
   "cell_type": "markdown",
   "metadata": {},
   "source": [
    "<div class=\"alert alert-info\">\n",
    "    \n",
    "As we can see, `groupby` -function gives us an object called `DataFrameGroupBy` which is similar to list of keys and values (in a dictionary) that we can iterate over.\n",
    "\n",
    "</div>   \n",
    "Check group keys:"
   ]
  },
  {
   "cell_type": "code",
   "execution_count": null,
   "metadata": {},
   "outputs": [],
   "source": [
    "grouped.groups.keys()"
   ]
  },
  {
   "cell_type": "markdown",
   "metadata": {},
   "source": [
    "The group keys are unique values from the column by which we grouped the dataframe.\n",
    "\n",
    "Check the number of rows that each data group has:"
   ]
  },
  {
   "cell_type": "code",
   "execution_count": null,
   "metadata": {
    "collapsed": false,
    "jupyter": {
     "outputs_hidden": false
    }
   },
   "outputs": [],
   "source": [
    "# Iterate over the grouped object\n",
    "for key, group in grouped:\n",
    "\n",
    "    # Let's check how many rows each group has:\n",
    "    print('Terrain class:', key)\n",
    "    print('Number of rows:', len(group), \"\\n\")"
   ]
  },
  {
   "cell_type": "markdown",
   "metadata": {},
   "source": [
    "For example, according to the output, there are 90 forest polygons in the input data."
   ]
  },
  {
   "cell_type": "markdown",
   "metadata": {},
   "source": [
    "We can also check how the _last_ group looks like (we have the variables in memory from the last iteration of the for-loop):"
   ]
  },
  {
   "cell_type": "code",
   "execution_count": null,
   "metadata": {},
   "outputs": [],
   "source": [
    "group.head()"
   ]
  },
  {
   "cell_type": "markdown",
   "metadata": {},
   "source": [
    "<div class=\"alert alert-info\">\n",
    "Notice that the index numbers refer to the row numbers in the original data -GeoDataFrame.\n",
    "</div>"
   ]
  },
  {
   "cell_type": "markdown",
   "metadata": {},
   "source": [
    "Check also the data type of the group:"
   ]
  },
  {
   "cell_type": "code",
   "execution_count": null,
   "metadata": {},
   "outputs": [],
   "source": [
    "type(group)"
   ]
  },
  {
   "cell_type": "markdown",
   "metadata": {},
   "source": [
    "As we can see, each set of data are now grouped into separate GeoDataFrames, and we can save them into separate files."
   ]
  },
  {
   "cell_type": "markdown",
   "metadata": {},
   "source": [
    "### Saving multiple output files\n",
    "\n",
    "Let's **export each class into a separate Shapefile**. While doing this, we also want to **create unique filenames for each class**.\n",
    "\n",
    "When looping over the grouped object, information about the class is stored in the variable `key`, and we can use this information for creating new variable names inside the for-loop. For example, we want to name the shapefile containing lake polygons as \"terrain_36200.shp\".\n",
    "\n",
    "\n",
    "<div class=\"alert alert-info\">\n",
    "\n",
    "**String formatting**\n",
    "    \n",
    "There are different approaches for formatting strings in Python. Here are a couple of different ways for putting together file-path names using two variables:\n",
    "\n",
    "```\n",
    "basename = \"terrain\"\n",
    "key = 36200\n",
    "\n",
    "# OPTION 1. Concatenating using the `+` operator:\n",
    "out_fp = basename + \"_\" + str(key) + \".shp\"\n",
    "\n",
    "# OPTION 2. Positional formatting using `%` operator\n",
    "out_fp = \"%s_%s.shp\" %(basename, key)\n",
    "    \n",
    "# OPTION 3. Positional formatting using `.format()`\n",
    "out_fp = \"{}_{}.shp\".format(basename, key)\n",
    "```\n",
    "    \n",
    "Read more from here: https://pyformat.info/\n",
    "</div>\n",
    "\n",
    "\n",
    "Let's now export terrain classes into separate Shapefiles.\n",
    "\n",
    "- First, create a new folder for the outputs:"
   ]
  },
  {
   "cell_type": "code",
   "execution_count": null,
   "metadata": {},
   "outputs": [],
   "source": [
    "# Determine output directory\n",
    "output_folder = r\"../data/output_data\"\n",
    "\n",
    "# Create a new folder called 'Results' \n",
    "result_folder = os.path.join(output_folder, 'Results')\n",
    "\n",
    "# Check if the folder exists already\n",
    "if not os.path.exists(result_folder):\n",
    "    \n",
    "    print(\"Creating a folder for the results...\")\n",
    "    # If it does not exist, create one\n",
    "    os.makedirs(result_folder)\n",
    "    \n",
    "    \n",
    "else:\n",
    "    print(\"Results folder exists already.\")"
   ]
  },
  {
   "cell_type": "markdown",
   "metadata": {},
   "source": [
    "At this point, you can go to the file browser and check that the new folder was created successfully.\n",
    "\n",
    "- Iterate over groups, create a file name, and save group to file:"
   ]
  },
  {
   "cell_type": "code",
   "execution_count": null,
   "metadata": {
    "collapsed": false,
    "jupyter": {
     "outputs_hidden": false
    }
   },
   "outputs": [],
   "source": [
    "# Iterate over the groups\n",
    "for key, group in grouped:\n",
    "    # Format the filename \n",
    "    output_name = \"landuse_{}.shp\".format(key)\n",
    "\n",
    "    # Print information about the process\n",
    "    print(\"Saving file ...\", os.path.basename(output_name))\n",
    " \n",
    "    # Create an output path\n",
    "    outpath = os.path.join(result_folder, output_name)\n",
    "\n",
    "    # Export the data\n",
    "    group.to_file(outpath)"
   ]
  },
  {
   "cell_type": "markdown",
   "metadata": {},
   "source": [
    "Perfect! Now we have saved those individual classes into separate Shapefiles and named the file according to the class name. These kind of grouping operations can be really handy when dealing with layers of spatial data. Doing similar process manually would be really laborious and error-prone."
   ]
  },
  {
   "cell_type": "markdown",
   "metadata": {},
   "source": [
    "### Save data to CSV (Optional)"
   ]
  },
  {
   "cell_type": "markdown",
   "metadata": {},
   "source": [
    "We can also extract basic statistics from our geodataframe, and save this information as a text file. \n",
    "\n",
    "Let's summarize the total area of each group:"
   ]
  },
  {
   "cell_type": "code",
   "execution_count": null,
   "metadata": {},
   "outputs": [],
   "source": [
    "area_info = grouped.area.sum().round()"
   ]
  },
  {
   "cell_type": "code",
   "execution_count": null,
   "metadata": {},
   "outputs": [],
   "source": [
    "area_info"
   ]
  },
  {
   "cell_type": "markdown",
   "metadata": {},
   "source": [
    "- save area info to csv using pandas:"
   ]
  },
  {
   "cell_type": "code",
   "execution_count": null,
   "metadata": {},
   "outputs": [],
   "source": [
    "# Create an output path\n",
    "area_info.to_csv(os.path.join(result_folder, \"landuse_class_areas.csv\"), header=True)"
   ]
  },
  {
   "cell_type": "markdown",
   "metadata": {},
   "source": [
    "## Creating a Map with all 5 imported layers"
   ]
  },
  {
   "cell_type": "code",
   "execution_count": null,
   "metadata": {},
   "outputs": [],
   "source": [
    "%matplotlib widget \n",
    "# the previous line of code allows us to interact with the plot as it enables functionalities such as: zoom, pan, save plot etc. \n",
    "# if you want to just plot your map without being interactive just comment (add # at the beginning) the previous line and \n",
    "# run the next one, after removing the # from the beginning: \n",
    "\n",
    "#%matplotlib inline\n",
    "\n",
    "import contextily as ctx  # contextily is a package which can be used to retrieve tile maps from the internet such as the OSM basemap\n",
    "import matplotlib.pyplot as plt\n",
    "import matplotlib.patches as mpatches\n",
    "import matplotlib.lines as mlines\n",
    "\n",
    "\n",
    "# Create a base map using OpenStreetMap as a basemap\n",
    "ax = landuse.plot(figsize=(10, 7), color=\"#05621f\")\n",
    "ctx.add_basemap(ax, crs=\"EPSG:28992\", source=ctx.providers.OpenStreetMap.Mapnik)  # Add OSM as the basemap\n",
    "\n",
    "# Plot other layers on top of the base map with labels\n",
    "buildings.plot(ax=ax, color=\"#2a2a2a\", alpha=0.8, label=\"Buildings\")\n",
    "water_areas.plot(ax=ax, color=\"#09649b\", alpha=0.7, label=\"Water Areas\")\n",
    "parking.plot(ax=ax, color=\"#a9874d\", alpha=0.6, label=\"Parking\")\n",
    "roads.plot(ax=ax, color=\"#991010\", alpha=0.6, label=\"Roads\")\n",
    "\n",
    "# Create custom legend handles for different geometry types\n",
    "legend_handles = [mpatches.Patch(color=\"#05621f\", alpha=0.8, label=\"Landuse\"),\n",
    "                  mpatches.Patch(color=\"#2a2a2a\", alpha=0.8, label=\"Buildings\"),\n",
    "                  mpatches.Patch(color=\"#09649b\", alpha=0.7, label=\"Water Areas\"),\n",
    "                  mpatches.Patch(color=\"#a9874d\", alpha=0.6, label=\"Parking\"),\n",
    "                  mlines.Line2D([], [], color=\"#991010\", label=\"Roads\")]\n",
    "\n",
    "# Add the legend with custom handles and labels\n",
    "ax.legend(handles=legend_handles)\n",
    "\n",
    "# Add a title to the map\n",
    "plt.title(\"Our Map\")\n",
    "\n",
    "# Show the map with the legend\n",
    "plt.show()"
   ]
  },
  {
   "cell_type": "markdown",
   "metadata": {},
   "source": [
    "## What we learned until now 😎? \n",
    "\n",
    "In this section we introduced the first steps of using geopandas. More specifically you should know how to:\n",
    "\n",
    "1. Read data from Shapefile(.shp) and Geopackage(.gpkg) using geopandas\n",
    "\n",
    "2. Access geometry information in a geodataframe\n",
    "\n",
    "4. Write GeoDataFrame data from a geopackage layer using geopandas\n",
    "\n",
    "5. Automate a task to save specific rows from data into a layer, based on specific key using `groupby()` -function\n",
    "\n",
    "6. Extra: saving attribute information to a csv file.\n",
    "\n",
    "\n",
    " "
   ]
  }
 ],
 "metadata": {
  "kernelspec": {
   "display_name": "Python 3 (ipykernel)",
   "language": "python",
   "name": "python3"
  },
  "language_info": {
   "codemirror_mode": {
    "name": "ipython",
    "version": 3
   },
   "file_extension": ".py",
   "mimetype": "text/x-python",
   "name": "python",
   "nbconvert_exporter": "python",
   "pygments_lexer": "ipython3",
   "version": "3.10.8"
  }
 },
 "nbformat": 4,
 "nbformat_minor": 4
}
