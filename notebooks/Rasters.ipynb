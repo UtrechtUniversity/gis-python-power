{
 "cells": [
  {
   "cell_type": "markdown",
   "id": "9cd65104-3a9c-4290-84e4-99524f00533f",
   "metadata": {},
   "source": [
    "# Working with Raster Data in Python\n",
    "\n",
    "Python has an ecosystem of packages to work with Geospatial data. The most important packages to work with Raster data are:\n",
    "\n",
    "- [Rasterio](https://rasterio.readthedocs.io/en/latest/index.html) is a highly useful module for raster processing which you can use for reading and writing [several different raster formats](https://gdal.org/drivers/raster/index.html) in Python. Rasterio is based on [GDAL](http://www.gdal.org/). Most common file formats that can be read with `Rasterio` include for example TIFF, GeoTIFF, ASCII Grid and Erdas Imagine (.img) files.\n",
    "- [xarray](https://docs.xarray.dev/en/stable/getting-started-guide/index.html) is a package to create array objects similar to numpy arrays, but store extra information (dimensions, coordinates, coordinate reference system, time). Data model based on NetCDF. Xarray has built in functionality for parallel computing. \n",
    "- [rioxarray](https://corteva.github.io/rioxarray/stable/getting_started/getting_started.html) is basically an extension for `xarray` based on `rasterio`. With rioxarray you can read geospatial data files directly into `xarray` objects.\n",
    "- [matplotlib](https://matplotlib.org/) is the most common plotting library in Python, inspired by the plotting functionalities of MATLAB\n",
    "- [earthpy](https://pypi.org/project/earthpy/) provides some extra plotting functionalities specifically for geospatial datasets.\n"
   ]
  },
  {
   "cell_type": "markdown",
   "id": "27f5aaf1-71d3-4337-825e-289e2257e694",
   "metadata": {},
   "source": [
    "## Before we start\n",
    "\n",
    "<div class=\"warning\" style='padding:0.1em; background-color:#E9D8FD; color:#69337A'>\n",
    "<span>\n",
    "<p style='margin-top:1em;margin-left:1em'>\n",
    "<b>Step 1: change the Python kernel</b></p>\n",
    "<p style='margin-left:1em;'>\n",
    "Make sure in the top right of this window the selected kernel is `geo-kernel (ipykernel)`. If you see `Python 3 (ipykernel)`, just click on it to change it to the `geo-kernel`.\n",
    "</p>\n",
    "</span>\n",
    "</div>\n"
   ]
  },
  {
   "cell_type": "markdown",
   "id": "7ed8a42e-2c4e-468c-b58f-53dfab3595d1",
   "metadata": {},
   "source": [
    "## Reading raster file (rioxarray/rasterio)\n",
    "\n",
    "For reading data we use the `rioxarray` package. `rasterio` also has functions to read data, with this package you will get a slightly different data type that has slightly different functionalities. Basically you could do most of the steps below by using `rasterio`, but the commands will look slightly different."
   ]
  },
  {
   "cell_type": "code",
   "execution_count": null,
   "id": "b8303a79-b88b-412a-9a75-9fe095fa66f9",
   "metadata": {
    "scrolled": true
   },
   "outputs": [],
   "source": [
    "import rioxarray\n",
    "import os\n",
    "%matplotlib inline\n",
    "\n",
    "# Data dir\n",
    "data_dir = \"../data/input_data/\"\n",
    "fp = os.path.join(data_dir, \"USP_4Band_RGBN.tif\")\n",
    "\n",
    "# Open the file:\n",
    "raster = rioxarray.open_rasterio(fp, band_as_variable = True)\n",
    "\n",
    "# Check type of the variable 'raster'\n",
    "type(raster)"
   ]
  },
  {
   "cell_type": "markdown",
   "id": "f6df3dbd-c2ca-43ed-8a99-08e4c5025de5",
   "metadata": {},
   "source": [
    "## Exploring file structure (Dataset class)\n",
    "\n",
    "It is always good to explore a bit the structure and content of data objects before working with it. Especially with geospatial data you want to know the dimensions, the coordinate reference system and the number of layers or bands."
   ]
  },
  {
   "cell_type": "code",
   "execution_count": null,
   "id": "83481909-3a8a-4f28-bd41-80de256b6068",
   "metadata": {
    "scrolled": true
   },
   "outputs": [],
   "source": [
    "raster"
   ]
  },
  {
   "cell_type": "markdown",
   "id": "46b812dc-a00e-4d07-bc37-7d37fd28c449",
   "metadata": {},
   "source": [
    "### Extracting bands into separate objects\n",
    "\n",
    "We will now create objects of each of the spectral bands of the image. It is not strictly necessary to do this (it is a bit inefficient to make copies of the data), but it makes the python code below better readable and intuitive."
   ]
  },
  {
   "cell_type": "code",
   "execution_count": null,
   "id": "cb3433bd-f478-4c60-af48-a8681c4a174b",
   "metadata": {},
   "outputs": [],
   "source": [
    "blue = raster[\"band_3\"]\n",
    "green = raster[\"band_2\"]\n",
    "red = raster[\"band_1\"]\n",
    "nir = raster[\"band_4\"]\n",
    "blue"
   ]
  },
  {
   "cell_type": "code",
   "execution_count": null,
   "id": "5009e959-eb3a-423c-bf36-bfb150a508f5",
   "metadata": {},
   "outputs": [],
   "source": [
    "print(red.rio.crs)\n",
    "print(red.rio.nodata)\n",
    "print(red.rio.bounds())\n",
    "print(red.rio.width)\n",
    "print(red.rio.height)"
   ]
  },
  {
   "cell_type": "markdown",
   "id": "293803fe-9138-4c9f-9015-d46691d7444d",
   "metadata": {},
   "source": [
    "You can see that the individual bands are a different data type (`xarray.DataArray` instead of `xarray.Dataset`). The `DataArray` is slightly simpler, but still contains the dimensions and coordinates of the image."
   ]
  },
  {
   "cell_type": "markdown",
   "id": "e46f86d4-f07c-4bed-9019-f608e50a977a",
   "metadata": {},
   "source": [
    "### Visualizing bands\n",
    "\n",
    "`xarray.DataArray` s have a built-in plot method (this is based on the plotting functions from the `matplotlib` package). We can create plots for the red band by running this command:"
   ]
  },
  {
   "cell_type": "code",
   "execution_count": null,
   "id": "7e2ec0c6-13c7-46e0-9d37-53fa5cc800b1",
   "metadata": {
    "scrolled": true
   },
   "outputs": [],
   "source": [
    "red.plot()"
   ]
  },
  {
   "cell_type": "markdown",
   "id": "745ac714-4aa0-4dd8-ab07-966f698cf703",
   "metadata": {},
   "source": [
    "## Coordinate Reference Systems\n",
    "\n",
    "To define the location of something you often use a coordinate reference system (CRS). This system consists of an X and a Y value located within a 2 (or more) -dimensional space. Because we typically make rectangular maps from an area on a (not perfectly shaped) sphere, 'we' invented an big number of CRSs to make this maps look pretty. The downside of this is that you can collect different datasets in different CRSs which can be a pain to work with. Luckily there are tools to convert a CRS to a different CRS.\n",
    "\n",
    "A coordinate reference system is made up of several key components:\n",
    "\n",
    "- Coordinate system: The X, Y grid upon which your data is overlayed and how you define where a point is located in space.\n",
    "- Horizontal and vertical units: The units used to define the grid along the x, y (and z) axis.\n",
    "- Datum: A modeled version of the shape of the Earth which defines the origin used to place the coordinate system in space. You will learn this further below.\n",
    "- Projection Information: The mathematical equation used to flatten objects that are on a round surface (e.g. the Earth) so you can view them on a flat surface (e.g. your computer screens or a paper map).\n",
    "\n",
    "Commonly used CRSs include: \n",
    "\n",
    "WGS 84: https://epsg.io/4326  \n",
    "UTM31N: https://epsg.io/32631"
   ]
  },
  {
   "cell_type": "markdown",
   "id": "a46ec835-306a-41fe-b7d4-f88ba161a0bc",
   "metadata": {},
   "source": [
    "## CRS conversion\n",
    "\n",
    "Actually I find the coordinates in the plot above not really intuitive. I prefer \"lat, long\", so degrees latitude and longitude. Let's change the CRS using the `crs` module from the `rasterio` package."
   ]
  },
  {
   "cell_type": "code",
   "execution_count": null,
   "id": "a067c622-4b82-44e7-92e9-d4781ac07163",
   "metadata": {},
   "outputs": [],
   "source": [
    "from rasterio.crs import CRS\n",
    "\n",
    "crs_wgs84 = CRS.from_string('EPSG:4326')"
   ]
  },
  {
   "cell_type": "code",
   "execution_count": null,
   "id": "db68343d-93d7-4e4f-96a4-ee51b7fbf0cc",
   "metadata": {},
   "outputs": [],
   "source": [
    "red_wgs84 = red.rio.reproject(crs_wgs84)"
   ]
  },
  {
   "cell_type": "code",
   "execution_count": null,
   "id": "37d8a89c-8212-4e64-a312-12151d706bcb",
   "metadata": {},
   "outputs": [],
   "source": [
    "red_wgs84.plot()"
   ]
  },
  {
   "cell_type": "markdown",
   "id": "81fafdf3-4b65-4ba4-bf95-19552c1937a3",
   "metadata": {},
   "source": [
    "As you can see, the coordinates and labels have changed. We can also inspect the `DataArray` to see what changed:"
   ]
  },
  {
   "cell_type": "code",
   "execution_count": null,
   "id": "8f797084-4a2c-419e-80f2-facbaf45897d",
   "metadata": {},
   "outputs": [],
   "source": [
    "red_wgs84"
   ]
  },
  {
   "cell_type": "markdown",
   "id": "b7b71928-0481-4dbb-9fd9-ee99708c727c",
   "metadata": {},
   "source": [
    "## Cropping\n",
    "\n",
    "Now, let's say we want to zoom in to the area where we are currently are and do some analysis on the vegetation in this area. We will first need to crop the image. It is best to do this first, it will result in a smaller image that is easier to work with. We can use the `clip_box` method to do this. We will do this for the reprojected red spectral band image first:"
   ]
  },
  {
   "cell_type": "code",
   "execution_count": null,
   "id": "6b5a0220-b6de-4cff-aeb2-fcebf2701b0d",
   "metadata": {},
   "outputs": [],
   "source": [
    "red_clipped = red_wgs84.rio.clip_box(\n",
    "    minx=5.170,\n",
    "    miny=52.088,\n",
    "    maxx=5.180,\n",
    "    maxy=52.092,\n",
    ")\n",
    "red_clipped.plot()"
   ]
  },
  {
   "cell_type": "markdown",
   "id": "9638fd58-7ffe-46e6-917f-b1cc1331e832",
   "metadata": {},
   "source": [
    "And now there is the very convenient function `reproject_match` that will -in one go- perform the reprojection and cropping step that we now only applied to the red spectral band. Basically it will make sure the `xarray.DataArray` object it will be applied on has the same dimensions and coordinates as another object that we specify:"
   ]
  },
  {
   "cell_type": "code",
   "execution_count": null,
   "id": "0bda3b39-a27b-47f6-90d1-2a87d2c0b5b2",
   "metadata": {},
   "outputs": [],
   "source": [
    "green_clipped = green.rio.reproject_match(red_clipped)\n",
    "green_clipped.plot()"
   ]
  },
  {
   "cell_type": "markdown",
   "id": "f61f10f7-3e05-4172-b01b-78cbac10ce19",
   "metadata": {},
   "source": [
    "Similarly we will apply this method on the blue and near infrared spectral bands:"
   ]
  },
  {
   "cell_type": "code",
   "execution_count": null,
   "id": "02fd4a73-4a2e-41b8-8c47-ebef03dca7ee",
   "metadata": {},
   "outputs": [],
   "source": [
    "blue_clipped = blue.rio.reproject_match(red_clipped)\n",
    "nir_clipped = nir.rio.reproject_match(red_clipped)"
   ]
  },
  {
   "cell_type": "markdown",
   "id": "9abfa93a-8edc-4c64-8095-c6f6b5fb5f5b",
   "metadata": {},
   "source": [
    "## Composing a True color (or RGB) image\n",
    "\n",
    "We can use the red, green and blue spectral bands to create a true color image. As you can see in the legends above the values are scaled between 0 and 255. For composing the image we need to normalize the values first:"
   ]
  },
  {
   "cell_type": "code",
   "execution_count": null,
   "id": "577be130-c2e7-484f-8001-46ad8c33dbfe",
   "metadata": {},
   "outputs": [],
   "source": [
    "# Function to normalize the grid values\n",
    "def normalize(array):\n",
    "    \"\"\"Normalizes numpy arrays into scale 0.0 - 1.0\"\"\"\n",
    "    array_min, array_max = array.min(), array.max()\n",
    "    return ((array - array_min)/(array_max - array_min))\n",
    "\n",
    "# Normalize the bands\n",
    "redn = normalize(red_clipped)\n",
    "greenn = normalize(green_clipped)\n",
    "bluen = normalize(blue_clipped)\n",
    "nirn = normalize(nir_clipped)\n",
    "\n",
    "print(\"Normalized bands\")\n",
    "print(redn.values.min(), '-', redn.values.max(), 'mean:', redn.values.mean())\n",
    "print(greenn.values.min(), '-', greenn.values.max(), 'mean:', greenn.values.mean())\n",
    "print(bluen.values.min(), '-', bluen.values.max(), 'mean:', bluen.values.mean())"
   ]
  },
  {
   "cell_type": "markdown",
   "id": "7c4393e8-cb42-46aa-b7c7-88e99689c2d0",
   "metadata": {},
   "source": [
    "Now let's merge the three bands into one (`DataArray`) object. For this we can use the `merge` function from the `xarray` package:"
   ]
  },
  {
   "cell_type": "code",
   "execution_count": null,
   "id": "00964752-a9da-4d6e-b755-91dff2e96b46",
   "metadata": {},
   "outputs": [],
   "source": [
    "import xarray as xr\n",
    "\n",
    "# Create RGB natural color composite\n",
    "#rgb = xr.merge([red_clipped, green_clipped, blue_clipped]).to_array()\n",
    "rgb = xr.merge([redn, greenn, bluen]).to_array()\n",
    "\n",
    "rgb"
   ]
  },
  {
   "cell_type": "markdown",
   "id": "c387fcf6-d89c-42bc-b855-4c8a204565ee",
   "metadata": {},
   "source": [
    "Now we can plot the true color image:"
   ]
  },
  {
   "cell_type": "code",
   "execution_count": null,
   "id": "9a2fbe42-e448-4716-8352-5ca820efc592",
   "metadata": {},
   "outputs": [],
   "source": [
    "rgb.plot.imshow(figsize=(8,8))"
   ]
  },
  {
   "cell_type": "markdown",
   "id": "707ff4de-2a76-4158-9f57-d9e7f470a2c4",
   "metadata": {},
   "source": [
    "## NDVI and raster maths\n",
    "\n",
    "It is possible to do all kinds of mathematical operations using 1 or more raster layers. We have already seen how to normalize a raster layer above. Now we will combine the red and infrared spectral bands to calculate the Normalized Difference Vegetation Index (NDVI):\n",
    "\n",
    "$$ NDVI = \\frac{NIR - red}{NIR + red} $$\n",
    "\n",
    "This index is commonly used to quantify the amount of green leaf.\n",
    "\n",
    "First, let's check if the shape of the rasters is the same:"
   ]
  },
  {
   "cell_type": "code",
   "execution_count": null,
   "id": "609d0d29-ee0f-4708-8308-2dffebd99609",
   "metadata": {},
   "outputs": [],
   "source": [
    "print(redn.shape)\n",
    "print(nirn.shape)"
   ]
  },
  {
   "cell_type": "markdown",
   "id": "3ba8db72-3f85-49dc-9ff1-a87ff93b586e",
   "metadata": {},
   "source": [
    "Now we simply use the formula above where we use the bands as variables. The ndvi will be calculated on a pixel basis."
   ]
  },
  {
   "cell_type": "code",
   "execution_count": null,
   "id": "987b2ecb-3d37-4d44-bc48-82e25092ada9",
   "metadata": {},
   "outputs": [],
   "source": [
    "ndvi = (nirn - redn)/ (nirn + redn)"
   ]
  },
  {
   "cell_type": "code",
   "execution_count": null,
   "id": "bbfef889-5da8-4ec0-8bb5-9fabcfe7bed1",
   "metadata": {},
   "outputs": [],
   "source": [
    "ndvi"
   ]
  },
  {
   "cell_type": "code",
   "execution_count": null,
   "id": "e865e716-aa74-420c-91f8-e71375a23a31",
   "metadata": {},
   "outputs": [],
   "source": [
    "ndvi.plot()"
   ]
  },
  {
   "cell_type": "markdown",
   "id": "dd4d0bff-924f-4133-8ee9-f9e26912a5c6",
   "metadata": {},
   "source": [
    "Now let's save this image to a file:"
   ]
  },
  {
   "cell_type": "code",
   "execution_count": null,
   "id": "537a84ee-5abf-493d-ada3-7d3651aa1ee1",
   "metadata": {},
   "outputs": [],
   "source": [
    "ndvi_nonan = ndvi.interpolate_na(dim=\"x\")\n",
    "ndvi_nonan.rio.to_raster(\"NDVI.tif\")"
   ]
  },
  {
   "cell_type": "markdown",
   "id": "b42a366d-edba-40c8-b46d-2eda526809e3",
   "metadata": {},
   "source": [
    "## Image Classification\n",
    "\n",
    "Using raster math and raster operations it is possible to creating new maps. In the following example we will use the NDVI map from above to create a new map where we classify NDVI values into vegetation density categories. \n",
    "\n",
    "Let's first create a histogram of all the values to see their distribution:\n",
    "\n",
    "\n"
   ]
  },
  {
   "cell_type": "code",
   "execution_count": null,
   "id": "3e198a4a-792f-4602-8f0e-02be0cc6b4b3",
   "metadata": {
    "scrolled": true
   },
   "outputs": [],
   "source": [
    "ndvi.plot.hist()"
   ]
  },
  {
   "cell_type": "markdown",
   "id": "bd2c76f5-aa69-4752-a7db-d96ccad0bd74",
   "metadata": {},
   "source": [
    "Now let's subdivide the pixels into 4 classes:"
   ]
  },
  {
   "cell_type": "code",
   "execution_count": null,
   "id": "44c29b7d-b158-4acf-a3e2-cb4e4b339fee",
   "metadata": {},
   "outputs": [],
   "source": [
    "import numpy as np\n",
    "import xarray\n",
    "\n",
    "# Defines the bins for pixel values\n",
    "class_bins = (-1, -0.2, 0.2, 0.5, 1)\n",
    "\n",
    "# The numpy.digitize function returns an unlabeled array, in this case, a\n",
    "# classified array without any metadata. That doesn't work--we need the\n",
    "# coordinates and other spatial metadata. We can get around this using\n",
    "# xarray.apply_ufunc, which can run the function across the data array while\n",
    "# preserving metadata.\n",
    "ndvi_classified = xarray.apply_ufunc(\n",
    "    np.digitize,\n",
    "    ndvi_nonan,\n",
    "    class_bins\n",
    ")"
   ]
  },
  {
   "cell_type": "markdown",
   "id": "9998d079-a685-4cde-8a04-e91deb391a08",
   "metadata": {},
   "source": [
    "Now we want to plot the result. We will create labels for the different categories and assign them different colors."
   ]
  },
  {
   "cell_type": "code",
   "execution_count": null,
   "id": "905d7e9f-1a17-41a3-84f7-e7fb2d286e7a",
   "metadata": {},
   "outputs": [],
   "source": [
    "import earthpy.plot as ep\n",
    "import matplotlib.pyplot as plt\n",
    "\n",
    "from matplotlib.colors import ListedColormap\n",
    "\n",
    "# Define color map of the map legend\n",
    "ndvi_colors = [\"blue\", \"gray\", \"green\", \"darkgreen\"]\n",
    "ndvi_cmap = ListedColormap(ndvi_colors)\n",
    "\n",
    "# Define class names for the legend\n",
    "category_names = [\n",
    "    \"Water\",\n",
    "    \"No Vegetation\",\n",
    "    \"Sparse Vegetation\",\n",
    "    \"Dense Vegetation\"\n",
    "]\n",
    "\n",
    "# We need to know in what order the legend items should be arranged\n",
    "category_indices = list(range(len(category_names)))\n",
    "\n",
    "# Make the plot\n",
    "im = ndvi_classified.plot(cmap=ndvi_cmap, add_colorbar=False)\n",
    "plt.title(\"Classified NDVI\")\n",
    "# earthpy helps us by drawing a legend given an existing image plot and legend items, plus indices\n",
    "ep.draw_legend(im_ax=im, classes=category_indices, titles=category_names)\n",
    "\n",
    "# Save the figure\n",
    "plt.savefig(\"NDVI_classified.png\", bbox_inches=\"tight\", dpi=300)"
   ]
  },
  {
   "cell_type": "markdown",
   "id": "df921a48-b12c-4bc6-a107-8899a8356037",
   "metadata": {},
   "source": [
    "## Main concluding messages:\n",
    "\n",
    "We have done the following steps:\n",
    "- Reading a GeoTIFF file (RGB image)\n",
    "- Extracting the different spectral bands from the image into separate objects\n",
    "- Reprojecting and converting the CRS\n",
    "- Cropping\n",
    "- Composing a True color image\n",
    "- Raster math / NDVI\n",
    "- Image classification\n",
    "\n",
    "This is a very short demonstrations of some of the possiblities of working with Raster data in Python. Some key advantages of working with Python:\n",
    "- Repeatable: Steps are easy to repeat for a new file or new selection, value, etc.\n",
    "- Reproducible: Publish the script with your manuscript, so all your steps can be reproduced\n",
    "- Scalable: built-in parallel options Xarray package\n",
    "- Large ecosystem of (community developed) libraries to do a wide variety of other cool things\n"
   ]
  }
 ],
 "metadata": {
  "kernelspec": {
   "display_name": "Python 3 (ipykernel)",
   "language": "python",
   "name": "python3"
  },
  "language_info": {
   "codemirror_mode": {
    "name": "ipython",
    "version": 3
   },
   "file_extension": ".py",
   "mimetype": "text/x-python",
   "name": "python",
   "nbconvert_exporter": "python",
   "pygments_lexer": "ipython3",
   "version": "3.10.8"
  }
 },
 "nbformat": 4,
 "nbformat_minor": 5
}
